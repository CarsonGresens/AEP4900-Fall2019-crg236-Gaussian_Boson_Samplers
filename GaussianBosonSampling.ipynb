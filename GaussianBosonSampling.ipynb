{
 "cells": [
  {
   "cell_type": "markdown",
   "metadata": {},
   "source": [
    "<table width=60%>\n",
    "    <tr style=\"background-color: white;\">\n",
    "        <td><img src='https://www.creativedestructionlab.com/wp-content/uploads/2018/05/xanadu.jpg'></td>></td>\n",
    "    </tr>\n",
    "</table>\n",
    "\n",
    "---\n",
    "\n",
    "<img src='https://raw.githubusercontent.com/XanaduAI/strawberryfields/master/doc/_static/strawberry-fields-text.png'>\n",
    "\n",
    "---\n",
    "\n",
    "<br>\n",
    "\n",
    "<center> <h1> Gaussian boson sampling tutorial </h1></center>\n",
    "\n",
    "To get a feel for how Strawberry Fields works, let's try coding a quantum program, Gaussian boson sampling."
   ]
  },
  {
   "cell_type": "markdown",
   "metadata": {},
   "source": [
    "## Background information: Gaussian states\n",
    "\n",
    "A Gaussian state is one that can be described by a [Gaussian function](https://en.wikipedia.org/wiki/Gaussian_function) in the phase space. For example, for a single mode Gaussian state, squeezed in the $x$ quadrature by squeezing operator $S(r)$, could be described by the following [Wigner quasiprobability distribution](Wigner quasiprobability distribution):\n",
    "\n",
    "$$W(x,p) = \\frac{2}{\\pi}e^{-2\\sigma^2(x-\\bar{x})^2 - 2(p-\\bar{p})^2/\\sigma^2}$$\n",
    "\n",
    "where $\\sigma$ represents the **squeezing**, and $\\bar{x}$ and $\\bar{p}$ are the mean **displacement**, respectively. For multimode states containing $N$ modes, this can be generalised; Gaussian states are uniquely defined by a [multivariate Gaussian function](https://en.wikipedia.org/wiki/Multivariate_normal_distribution), defined in terms of the **vector of means** ${\\mu}$ and a **covariance matrix** $\\sigma$.\n",
    "\n",
    "### The position and momentum basis\n",
    "\n",
    "For example, consider a single mode in the position and momentum quadrature basis (the default for Strawberry Fields). Assuming a Gaussian state with displacement $\\alpha = \\bar{x}+i\\bar{p}$ and squeezing $\\xi = r e^{i\\phi}$ in the phase space, it has a vector of means and a covariance matrix given by:\n",
    "\n",
    "$$ \\mu = (\\bar{x},\\bar{p}),~~~~~~\\sigma = SS\\dagger=R(\\phi/2)\\begin{bmatrix}e^{-2r} & 0 \\\\0 & e^{2r} \\\\\\end{bmatrix}R(\\phi/2)^T$$\n",
    "\n",
    "where $S$ is the squeezing operator, and $R(\\phi)$ is the standard two-dimensional rotation matrix. For multiple modes, in Strawberry Fields we use the convention \n",
    "\n",
    "$$ \\mu = (\\bar{x}_1,\\bar{x}_2,\\dots,\\bar{x}_N,\\bar{p}_1,\\bar{p}_2,\\dots,\\bar{p}_N)$$\n",
    "\n",
    "and therefore, considering $\\phi=0$ for convenience, the multimode covariance matrix is simply\n",
    "\n",
    "$$\\sigma = \\text{diag}(e^{-2r_1},\\dots,e^{-2r_N},e^{2r_1},\\dots,e^{2r_N})\\in\\mathbb{C}^{2N\\times 2N}$$\n",
    "\n",
    "If a continuous-variable state *cannot* be represented in the above form (for example, a single photon Fock state or a cat state), then it is non-Gaussian.\n",
    "\n",
    "### The annihilation and creation operator basis\n",
    "\n",
    "If we are instead working in the creation and annihilation operator basis, we can use the transformation of the single mode squeezing operator\n",
    "\n",
    "$$ S(\\xi) \\left[\\begin{matrix}\\hat{a}\\\\\\hat{a}^\\dagger\\end{matrix}\\right] = \\left[\\begin{matrix}\\cosh(r)&-e^{i\\phi}\\sinh(r)\\\\-e^{-i\\phi}\\sinh(r)&\\cosh(r)\\end{matrix}\\right] \\left[\\begin{matrix}\\hat{a}\\\\\\hat{a}^\\dagger\\end{matrix}\\right]$$\n",
    "\n",
    "resulting in\n",
    "\n",
    "$$\\sigma = SS^\\dagger = \\left[\\begin{matrix}\\cosh(2r)&-e^{i\\phi}\\sinh(2r)\\\\-e^{-i\\phi}\\sinh(2r)&\\cosh(2r)\\end{matrix}\\right]$$\n",
    "\n",
    "For multiple Gaussian states with non-zero squeezing, the covariance matrix in this basis simply generalises to\n",
    "\n",
    "$$\\sigma = \\text{diag}(S_1S_1^\\dagger,\\dots,S_NS_N^\\dagger)\\in\\mathbb{C}^{2N\\times 2N}$$"
   ]
  },
  {
   "cell_type": "markdown",
   "metadata": {},
   "source": [
    "## Introduction to Gaussian boson sampling\n",
    "\n",
    "<div class=\"alert alert-info\">\n",
    "“If you need to wait exponential time for your single photon sources to emit simultaneously, then there would seem to be no advantage over classical computation. This is the reason why so far, boson sampling has only been demonstrated with 3-4 photons. When faced with these problems, until recently, all we could do was shrug our shoulders.” - [Scott Aaronson](https://www.scottaaronson.com/blog/?p=1579)\n",
    "</div>\n",
    "\n",
    "While [boson sampling](https://en.wikipedia.org/wiki/Boson_sampling) allows the experimental implementation of a quantum sampling problem that it countably hard classically, one of the main issues it has in experimental setups is one of **scalability**, due to its dependence on an array of simultaneously emitting single photon sources.\n",
    "\n",
    "Currently, most physical implementations of boson sampling make use of a process known as [Spontaneous Parametric Down-Conversion](http://en.wikipedia.org/wiki/Spontaneous_parametric_down-conversion) to generate the single photon source inputs. Unfortunately, this method is non-deterministic - as the number of modes in the apparatus increases, the average time required until every photon source emits a simultaneous photon increases *exponentially*.\n",
    "\n",
    "In order to simulate a *deterministic* single photon source array, several variations on boson sampling have been proposed; the most well known being scattershot boson sampling ([Lund, 2014](https://link.aps.org/doi/10.1103/PhysRevLett.113.100502)). However, a recent boson sampling variation by [Hamilton et al.](https://link.aps.org/doi/10.1103/PhysRevLett.119.170501) negates the need for single photon Fock states altogether, by showing that **incident Gaussian states** - in this case, single mode squeezed states - can produce problems in the same computational complexity class as boson sampling. Even more significantly, this negates the scalability problem with single photon sources, as single mode squeezed states can be easily simultaneously generated experimentally.\n",
    "\n",
    "Aside from changing the input states from single photon Fock states to Gaussian states, the Gaussian boson sampling scheme appears quite similar to that of boson sampling:\n",
    "\n",
    "1. $N$ single mode squeezed states $\\left|{\\xi_i}\\right\\rangle$, with squeezing parameters $\\xi_i=r_ie^{i\\phi_i}$, enter an $N$ mode linear interferometer with unitary $U$.\n",
    "   <br>\n",
    "  \n",
    "2. The output of the interferometer is denoted $\\left|{\\psi'}\\right\\rangle$. Each output mode is then measured in the Fock basis, $\\bigotimes_i n_i\\left|{n_i}\\middle\\rangle\\middle\\langle{n_i}\\right|$.\n",
    "\n",
    "Without loss of generality, we can absorb the squeezing parameter $\\phi$ into the interferometer, and set $\\phi=0$ for convenience. The covariance matrix **in the creation and annihilation operator basis** at the output of the interferometer is then given by:\n",
    "\n",
    "$$\\sigma_{out} = \\frac{1}{2} \\left[ \\begin{matrix}U&0\\\\0&U^*\\end{matrix} \\right]\\sigma_{in} \\left[ \\begin{matrix}U^\\dagger&0\\\\0&U^T\\end{matrix} \\right]$$\n",
    "\n",
    "Using phase space methods, [Hamilton et al.](https://link.aps.org/doi/10.1103/PhysRevLett.119.170501) showed that the probability of measuring a Fock state is given by\n",
    "\n",
    "$$\\left|\\left\\langle{n_1,n_2,\\dots,n_N}\\middle|{\\psi'}\\right\\rangle\\right|^2 = \\frac{\\left|\\text{Haf}[(U\\bigoplus_i\\tanh(r_i)U^T)]_{st}\\right|^2}{n_1!n_2!\\cdots n_N!\\sqrt{|\\sigma_{out}+I/2|}},$$\n",
    "\n",
    "i.e. the sampled single photon probability distribution is proportional to the **Hafnian** of a submatrix of $U\\bigoplus_i\\tanh(r_i)U^T$, dependent upon the output covariance matrix.\n",
    "\n",
    "<div class=\"alert alert-success\" style=\"border: 0px; border-left: 3px solid #119a68; color: black; background-color: #daf0e9\">\n",
    "\n",
    "<p style=\"color: #119a68;\">**The Hafnian**</p>\n",
    "\n",
    "The Hafnian of a matrix is defined by\n",
    "<br><br>\n",
    "$$\\text{Haf}(A) = \\frac{1}{n!2^n}\\sum_{\\sigma=S_{2N}}\\prod_{i=1}^N A_{\\sigma(2i-1)\\sigma(2i)}$$\n",
    "<br>\n",
    "\n",
    "$S_{2N}$ is the set of all permutations of $2N$ elements. In graph theory, the Hafnian calculates the number of perfect <a href=\"https://en.wikipedia.org/wiki/Matching_(graph_theory)\">matchings</a> in an **arbitrary graph** with adjacency matrix $A$.\n",
    "<br>\n",
    "\n",
    "Compare this to the permanent, which calculates the number of perfect matchings on a *bipartite* graph - the Hafnian turns out to be a generalisation of the permanent, with the relationship\n",
    "\n",
    "$$\\begin{align}\n",
    "\\text{Per(A)} = \\text{Haf}\\left(\\left[\\begin{matrix}\n",
    "0&A\\\\\n",
    "A^T&0\n",
    "\\end{matrix}\\right]\\right)\n",
    "\\end{align}$$\n",
    "\n",
    "As any algorithm that could calculate (or even approximate) the Hafnian could also calculate the permanent - a #P problem - it follows that calculating or approximating the Hafnian must also be a classically hard problem.\n",
    "</div>\n",
    "\n",
    "### Equally squeezed input states\n",
    "\n",
    "In the case where all the input states are squeezed equally with squeezing factor $\\xi=r$ (i.e. so $\\phi=0$), we can simplify the denominator into a much nicer form. It can be easily seen that, due to the unitarity of $U$,\n",
    "\n",
    "$$\\left[ \\begin{matrix}U&0\\\\0&U^*\\end{matrix} \\right] \\left[ \\begin{matrix}U^\\dagger&0\\\\0&U^T\\end{matrix} \\right] = \\left[ \\begin{matrix}UU^\\dagger&0\\\\0&U^*U^T\\end{matrix} \\right] =I$$\n",
    "\n",
    "Thus, we have \n",
    "\n",
    "$$\\begin{align}\n",
    "\\sigma_{out} +\\frac{1}{2}I &= \\sigma_{out} + \\frac{1}{2} \\left[ \\begin{matrix}U&0\\\\0&U^*\\end{matrix} \\right] \\left[ \\begin{matrix}U^\\dagger&0\\\\0&U^T\\end{matrix} \\right] = \\left[ \\begin{matrix}U&0\\\\0&U^*\\end{matrix} \\right] \\frac{1}{2} \\left(\\sigma_{in}+I\\right) \\left[ \\begin{matrix}U^\\dagger&0\\\\0&U^T\\end{matrix} \\right]\n",
    "\\end{align}$$\n",
    "\n",
    "where we have subtituted in the expression for $\\sigma_{out}$. Taking the determinants of both sides, the two block diagonal matrices containing $U$ are unitary, and thus have determinant 1, resulting in\n",
    "\n",
    "$$\\left|\\sigma_{out} +\\frac{1}{2}I\\right| =\\left|\\frac{1}{2}\\left(\\sigma_{in}+I\\right)\\right|=\\left|\\frac{1}{2}\\left(SS^\\dagger+I\\right)\\right| $$\n",
    "\n",
    "By expanding out the right hand side, and using various trig identities, it is easy to see that this simply reduces to $\\cosh^{2N}(r)$ where $N$ is the number of modes; thus the Gaussian boson sampling problem in the case of equally squeezed input modes reduces to\n",
    "\n",
    "$$\\left|\\left\\langle{n_1,n_2,\\dots,n_N}\\middle|{\\psi'}\\right\\rangle\\right|^2 = \\frac{\\left|\\text{Haf}[(UU^T\\tanh(r))]_{st}\\right|^2}{n_1!n_2!\\cdots n_N!\\cosh^N(r)},$$"
   ]
  },
  {
   "cell_type": "markdown",
   "metadata": {},
   "source": [
    "## The Gaussian boson sampling circuit\n",
    "The multimode linear interferometer can be decomposed into two-mode beamsplitters (`BSgate`) and single-mode phase shifters (`Rgate`) (<a href=\"https://doi.org/10.1103/physrevlett.73.58\">Reck, 1994</a>), allowing for an almost trivial translation into a continuous-variable quantum circuit.\n",
    "\n",
    "For example, in the case of a 4 mode interferometer, with arbitrary $4\\times 4$ unitary $U$, the continuous-variable quantum circuit for Gaussian boson sampling is given by\n",
    "\n",
    "<img src=\"https://s3.amazonaws.com/xanadu-img/gaussian_boson_sampling.svg\" width=70%/>\n",
    "\n",
    "In the above,\n",
    "\n",
    "* the single mode squeeze states all apply identical squeezing $\\xi=r$,\n",
    "* the detectors perform Fock state measurements (i.e. measuring the photon number of each mode),\n",
    "* the parameters of the beamsplitters and the rotation gates determines the unitary $U$.\n",
    "\n",
    "For $N$ input modes, we must have a minimum of $N$ columns in the beamsplitter array ([Clements, 2016](https://arxiv.org/abs/1603.08788))."
   ]
  },
  {
   "cell_type": "markdown",
   "metadata": {},
   "source": [
    "## Simulating boson sampling in Strawberry Fields\n",
    "\n"
   ]
  },
  {
   "cell_type": "code",
   "execution_count": 1,
   "metadata": {},
   "outputs": [
    {
     "name": "stderr",
     "output_type": "stream",
     "text": [
      "C:\\Users\\cgres\\Anaconda3\\envs\\sf_tensorflow_env2\\lib\\site-packages\\tensorflow\\python\\framework\\dtypes.py:458: FutureWarning: Passing (type, 1) or '1type' as a synonym of type is deprecated; in a future version of numpy, it will be understood as (type, (1,)) / '(1,)type'.\n",
      "  _np_qint8 = np.dtype([(\"qint8\", np.int8, 1)])\n",
      "C:\\Users\\cgres\\Anaconda3\\envs\\sf_tensorflow_env2\\lib\\site-packages\\tensorflow\\python\\framework\\dtypes.py:459: FutureWarning: Passing (type, 1) or '1type' as a synonym of type is deprecated; in a future version of numpy, it will be understood as (type, (1,)) / '(1,)type'.\n",
      "  _np_quint8 = np.dtype([(\"quint8\", np.uint8, 1)])\n",
      "C:\\Users\\cgres\\Anaconda3\\envs\\sf_tensorflow_env2\\lib\\site-packages\\tensorflow\\python\\framework\\dtypes.py:460: FutureWarning: Passing (type, 1) or '1type' as a synonym of type is deprecated; in a future version of numpy, it will be understood as (type, (1,)) / '(1,)type'.\n",
      "  _np_qint16 = np.dtype([(\"qint16\", np.int16, 1)])\n",
      "C:\\Users\\cgres\\Anaconda3\\envs\\sf_tensorflow_env2\\lib\\site-packages\\tensorflow\\python\\framework\\dtypes.py:461: FutureWarning: Passing (type, 1) or '1type' as a synonym of type is deprecated; in a future version of numpy, it will be understood as (type, (1,)) / '(1,)type'.\n",
      "  _np_quint16 = np.dtype([(\"quint16\", np.uint16, 1)])\n",
      "C:\\Users\\cgres\\Anaconda3\\envs\\sf_tensorflow_env2\\lib\\site-packages\\tensorflow\\python\\framework\\dtypes.py:462: FutureWarning: Passing (type, 1) or '1type' as a synonym of type is deprecated; in a future version of numpy, it will be understood as (type, (1,)) / '(1,)type'.\n",
      "  _np_qint32 = np.dtype([(\"qint32\", np.int32, 1)])\n",
      "C:\\Users\\cgres\\Anaconda3\\envs\\sf_tensorflow_env2\\lib\\site-packages\\tensorflow\\python\\framework\\dtypes.py:465: FutureWarning: Passing (type, 1) or '1type' as a synonym of type is deprecated; in a future version of numpy, it will be understood as (type, (1,)) / '(1,)type'.\n",
      "  np_resource = np.dtype([(\"resource\", np.ubyte, 1)])\n"
     ]
    }
   ],
   "source": [
    "import strawberryfields as sf\n",
    "from strawberryfields.ops import *\n",
    "from strawberryfields.utils import random_interferometer"
   ]
  },
  {
   "cell_type": "markdown",
   "metadata": {},
   "source": [
    "Strawberry Fields makes this easy; there is an `Interferometer` quantum operation, and a utility function that allows us to generate the matrix representing a random interferometer."
   ]
  },
  {
   "cell_type": "code",
   "execution_count": 2,
   "metadata": {},
   "outputs": [],
   "source": [
    "U = random_interferometer(4)"
   ]
  },
  {
   "cell_type": "markdown",
   "metadata": {},
   "source": [
    "The lack of Fock states and non-linear operations means we can use the Gaussian backend to simulate Gaussian boson sampling. In this example program, we are using input states with squeezing parameter $\\xi=1$, and the randomly chosen interferometer generated above."
   ]
  },
  {
   "cell_type": "code",
   "execution_count": 3,
   "metadata": {},
   "outputs": [
    {
     "name": "stderr",
     "output_type": "stream",
     "text": [
      "C:\\Users\\cgres\\Anaconda3\\envs\\sf_tensorflow_env2\\lib\\site-packages\\strawberryfields\\backends\\gaussianbackend\\backend.py:200: UserWarning: Cannot simulate non-Gaussian states. Conditional state after Fock measurement has not been updated.\n"
     ]
    }
   ],
   "source": [
    "eng = sf.Engine('gaussian')\n",
    "gbs = sf.Program(4)\n",
    "\n",
    "with gbs.context as q:\n",
    "    # prepare the input squeezed states\n",
    "    S = Sgate(1)\n",
    "    All(S) | q\n",
    "\n",
    "    # interferometer\n",
    "    Interferometer(U) | q\n",
    "    MeasureFock() | q\n",
    "    \n",
    "results = eng.run(gbs, run_options={\"shots\":10})\n",
    "state = results.state\n",
    "\n",
    "# Note: Running this cell will generate a warning. This is just the Gaussian backend of Strawberryfields telling us \n",
    "# that, although it can carry out the MeasureFock operation, it will not update the state of the circuit after doing so,\n",
    "# since the resulting state would be non-Gaussian. For this notebook, the warning can be safely ignored."
   ]
  },
  {
   "cell_type": "markdown",
   "metadata": {},
   "source": [
    "We can see the decomposed beamsplitters and rotation gates, by calling `eng.print_applied()`:"
   ]
  },
  {
   "cell_type": "code",
   "execution_count": 4,
   "metadata": {},
   "outputs": [
    {
     "name": "stdout",
     "output_type": "stream",
     "text": [
      "Run 0:\n",
      "Sgate(1, 0) | (q[0])\n",
      "Sgate(1, 0) | (q[1])\n",
      "Sgate(1, 0) | (q[2])\n",
      "Sgate(1, 0) | (q[3])\n",
      "Rgate(-1.106) | (q[0])\n",
      "BSgate(0.6758, 0) | (q[0], q[1])\n",
      "Rgate(-2.335) | (q[2])\n",
      "BSgate(0.6619, 0) | (q[2], q[3])\n",
      "Rgate(0.3969) | (q[1])\n",
      "BSgate(1.203, 0) | (q[1], q[2])\n",
      "Rgate(-0.2382) | (q[0])\n",
      "BSgate(1.331, 0) | (q[0], q[1])\n",
      "Rgate(-1.28) | (q[0])\n",
      "Rgate(2.912) | (q[1])\n",
      "Rgate(0.01374) | (q[2])\n",
      "Rgate(1.388) | (q[3])\n",
      "BSgate(-0.7982, 0) | (q[2], q[3])\n",
      "Rgate(-1.893) | (q[2])\n",
      "BSgate(-0.3828, 0) | (q[1], q[2])\n",
      "Rgate(-2.615) | (q[1])\n",
      "Measure | (q[0], q[1], q[2], q[3])\n"
     ]
    }
   ],
   "source": [
    "eng.print_applied()"
   ]
  },
  {
   "cell_type": "markdown",
   "metadata": {},
   "source": [
    "<div class=\"alert alert-success\" style=\"border: 0px; border-left: 3px solid #119a68; color: black; background-color: #daf0e9\">\n",
    "<p style=\"color: #119a68;\">**Available decompositions**</p>\n",
    "\n",
    "Check out our <a href=\"https://strawberryfields.readthedocs.io/en/stable/conventions/decompositions.html\">documentation</a> to see the available CV decompositions available in Strawberry Fields.\n",
    "</div>\n"
   ]
  },
  {
   "cell_type": "markdown",
   "metadata": {},
   "source": [
    "We can also see some of the measurement samples from this circuit within `results.samples`. These correspond to independent runs of the Gaussian Boson Sampling circuit. "
   ]
  },
  {
   "cell_type": "code",
   "execution_count": 6,
   "metadata": {},
   "outputs": [
    {
     "data": {
      "text/plain": [
       "array([[2, 0, 0, 0],\n",
       "       [0, 0, 0, 0],\n",
       "       [0, 2, 0, 2],\n",
       "       [3, 2, 2, 3],\n",
       "       [2, 0, 2, 2],\n",
       "       [1, 1, 1, 1],\n",
       "       [2, 0, 3, 1],\n",
       "       [1, 0, 1, 0],\n",
       "       [1, 3, 4, 0],\n",
       "       [1, 0, 2, 1]])"
      ]
     },
     "execution_count": 6,
     "metadata": {},
     "output_type": "execute_result"
    }
   ],
   "source": [
    "results.samples"
   ]
  },
  {
   "cell_type": "markdown",
   "metadata": {},
   "source": [
    "## Analysis\n",
    "\n",
    "Let's now verify the Gaussian boson sampling result, by comparing the output Fock state probabilities to the Hafnian, using the relationship\n",
    "\n",
    "$$\\left|\\left\\langle{n_1,n_2,\\dots,n_N}\\middle|{\\psi'}\\right\\rangle\\right|^2 = \\frac{\\left|\\text{Haf}[(UU^T\\tanh(r))]_{st}\\right|^2}{n_1!n_2!\\cdots n_N!\\cosh^N(r)}$$"
   ]
  },
  {
   "cell_type": "markdown",
   "metadata": {},
   "source": [
    "### Calculating the Hafnian\n",
    "\n",
    "For the right hand side numerator, we first calculate the submatrix $[(UU^T\\tanh(r))]_{st}$:"
   ]
  },
  {
   "cell_type": "code",
   "execution_count": 7,
   "metadata": {},
   "outputs": [],
   "source": [
    "import numpy as np\n",
    "B = (np.dot(U, U.T) * np.tanh(1))"
   ]
  },
  {
   "cell_type": "markdown",
   "metadata": {},
   "source": [
    "In Gaussian boson sampling, we determine the submatrix by taking the rows and columns corresponding to the measured Fock state. For example, to calculate the submatrix in the case of the output measurement $\\left|{1,1,0,0}\\right\\rangle$,"
   ]
  },
  {
   "cell_type": "code",
   "execution_count": 8,
   "metadata": {},
   "outputs": [
    {
     "data": {
      "text/plain": [
       "array([[-0.04820543-0.55643423j, -0.10053267-0.20478706j],\n",
       "       [-0.10053267-0.20478706j,  0.26978353-0.41793844j]])"
      ]
     },
     "execution_count": 8,
     "metadata": {},
     "output_type": "execute_result"
    }
   ],
   "source": [
    "B[:,[0,1]][[0,1]]"
   ]
  },
  {
   "cell_type": "markdown",
   "metadata": {},
   "source": [
    "To calculate the Hafnian in Python, we can use the direct definition\n",
    "\n",
    "$$\\text{Haf}(A) = \\frac{1}{n!2^n} \\sum_{\\sigma \\in S_{2n}} \\prod_{j=1}^n A_{\\sigma(2j - 1), \\sigma(2j)}$$\n",
    "\n",
    "Notice that this function counts each term in the definition multiple times, and renormalizes to remove the multiple counts by dividing by a factor $\\frac{1}{n!2^n}$. **This function is extremely slow!**"
   ]
  },
  {
   "cell_type": "code",
   "execution_count": 9,
   "metadata": {},
   "outputs": [],
   "source": [
    "from itertools import permutations\n",
    "from scipy.special import factorial\n",
    "\n",
    "def Haf(M):\n",
    "    n = len(M)\n",
    "    m = int(n/2)\n",
    "    haf = 0.0\n",
    "    for i in permutations(range(n)):\n",
    "        prod = 1.0\n",
    "        for j in range(m):\n",
    "            prod *= M[i[2 * j], i[2 * j + 1]]\n",
    "        haf += prod\n",
    "    return haf / (factorial(m) * (2 ** m))"
   ]
  },
  {
   "cell_type": "markdown",
   "metadata": {},
   "source": [
    "## Comparing to the SF result"
   ]
  },
  {
   "cell_type": "markdown",
   "metadata": {},
   "source": [
    "In Strawberry Fields, both Fock and Gaussian states have the method `fock_prob()`, which returns the probability of measuring that particular Fock state.\n",
    "\n",
    "#### Let's compare the case of measuring at the output state $\\left|0,1,0,1\\right\\rangle$:"
   ]
  },
  {
   "cell_type": "code",
   "execution_count": 10,
   "metadata": {},
   "outputs": [
    {
     "data": {
      "text/plain": [
       "0.031609415387984494"
      ]
     },
     "execution_count": 10,
     "metadata": {},
     "output_type": "execute_result"
    }
   ],
   "source": [
    "B = (np.dot(U, U.T) * np.tanh(1))[:, [1, 3]][[1, 3]]\n",
    "np.abs(Haf(B)) ** 2 / np.cosh(1) ** 4"
   ]
  },
  {
   "cell_type": "code",
   "execution_count": 11,
   "metadata": {},
   "outputs": [
    {
     "data": {
      "text/plain": [
       "0.0316094153879846"
      ]
     },
     "execution_count": 11,
     "metadata": {},
     "output_type": "execute_result"
    }
   ],
   "source": [
    "state.fock_prob([0, 1, 0, 1])"
   ]
  },
  {
   "cell_type": "markdown",
   "metadata": {},
   "source": [
    "#### For the measurement result $\\left|2,0,0,0\\right\\rangle$:"
   ]
  },
  {
   "cell_type": "code",
   "execution_count": 65,
   "metadata": {},
   "outputs": [
    {
     "data": {
      "text/plain": [
       "0.02750999521119896"
      ]
     },
     "execution_count": 65,
     "metadata": {},
     "output_type": "execute_result"
    }
   ],
   "source": [
    "B = (np.dot(U, U.T) * np.tanh(1))[:, [0, 0]][[0, 0]]\n",
    "np.abs(Haf(B)) ** 2 / (2 * np.cosh(1) ** 4)"
   ]
  },
  {
   "cell_type": "code",
   "execution_count": 13,
   "metadata": {},
   "outputs": [
    {
     "data": {
      "text/plain": [
       "0.027509995211198953"
      ]
     },
     "execution_count": 13,
     "metadata": {},
     "output_type": "execute_result"
    }
   ],
   "source": [
    "state.fock_prob([2, 0, 0, 0])"
   ]
  },
  {
   "cell_type": "markdown",
   "metadata": {},
   "source": [
    "#### For the measurement result $\\left|1,1,0,0\\right\\rangle$:"
   ]
  },
  {
   "cell_type": "code",
   "execution_count": 14,
   "metadata": {},
   "outputs": [
    {
     "data": {
      "text/plain": [
       "0.009179538736835207"
      ]
     },
     "execution_count": 14,
     "metadata": {},
     "output_type": "execute_result"
    }
   ],
   "source": [
    "B = (np.dot(U, U.T) * np.tanh(1))[:, [0, 1]][[0, 1]]\n",
    "np.abs(Haf(B)) ** 2 / np.cosh(1) ** 4"
   ]
  },
  {
   "cell_type": "code",
   "execution_count": 15,
   "metadata": {},
   "outputs": [
    {
     "data": {
      "text/plain": [
       "0.00917953873683522"
      ]
     },
     "execution_count": 15,
     "metadata": {},
     "output_type": "execute_result"
    }
   ],
   "source": [
    "state.fock_prob([1, 1, 0, 0])"
   ]
  },
  {
   "cell_type": "markdown",
   "metadata": {},
   "source": [
    "#### For the measurement result $\\left|1,1,1,1\\right\\rangle$, this corresponds to the full matrix $B$:"
   ]
  },
  {
   "cell_type": "code",
   "execution_count": 16,
   "metadata": {},
   "outputs": [
    {
     "data": {
      "text/plain": [
       "0.011469919168501149"
      ]
     },
     "execution_count": 16,
     "metadata": {},
     "output_type": "execute_result"
    }
   ],
   "source": [
    "B = (np.dot(U,U.T) * np.tanh(1))\n",
    "np.abs(Haf(B)) ** 2 / np.cosh(1) ** 4"
   ]
  },
  {
   "cell_type": "code",
   "execution_count": 17,
   "metadata": {},
   "outputs": [
    {
     "data": {
      "text/plain": [
       "0.011469919168501192"
      ]
     },
     "execution_count": 17,
     "metadata": {},
     "output_type": "execute_result"
    }
   ],
   "source": [
    "state.fock_prob([1, 1, 1, 1])"
   ]
  },
  {
   "cell_type": "markdown",
   "metadata": {},
   "source": [
    "#### For the measurement result $\\left|0,0,0,0\\right\\rangle$, this corresponds to a **null** submatrix, which has a Hafnian of 1:"
   ]
  },
  {
   "cell_type": "code",
   "execution_count": 23,
   "metadata": {},
   "outputs": [
    {
     "data": {
      "text/plain": [
       "0.1763784476141347"
      ]
     },
     "execution_count": 23,
     "metadata": {},
     "output_type": "execute_result"
    }
   ],
   "source": [
    "1 / np.cosh(1) ** 4\n"
   ]
  },
  {
   "cell_type": "code",
   "execution_count": 24,
   "metadata": {
    "scrolled": false
   },
   "outputs": [
    {
     "data": {
      "text/plain": [
       "0.17637844761413482"
      ]
     },
     "execution_count": 24,
     "metadata": {},
     "output_type": "execute_result"
    }
   ],
   "source": [
    "state.fock_prob([0, 0, 0, 0])"
   ]
  },
  {
   "cell_type": "markdown",
   "metadata": {},
   "source": [
    "As you can see, like in the boson sampling tutorial, they agree with almost negligable difference.\n",
    "\n",
    "<div class=\"alert alert-success\" style=\"border: 0px; border-left: 3px solid #119a68; color: black; background-color: #daf0e9\">\n",
    "<p style=\"color: #119a68;\">**Exercises**</p>\n",
    "\n",
    "Repeat this notebook with \n",
    "<ol>\n",
    "    <li> A higher value for <tt>shots</tt> in <tt>eng.run()</tt>, and compare the relative probabilties of events with the expected values.</li>\n",
    "    <li> A Fock backend such as NumPy, instead of the Gaussian backend</li>\n",
    "    <li> Different beamsplitter and rotation parameters</li>\n",
    "    <li> Input states with *differing* squeezed values $r_i$. You will need to modify the code to take into account the fact that the output covariance matrix determinant must now be calculated!\n",
    "</ol>\n",
    "</div>"
   ]
  },
  {
   "cell_type": "code",
   "execution_count": 33,
   "metadata": {},
   "outputs": [
    {
     "data": {
      "text/plain": [
       "array([[-0.04820543-0.55643423j, -0.10053267-0.20478706j],\n",
       "       [-0.10053267-0.20478706j,  0.26978353-0.41793844j]])"
      ]
     },
     "execution_count": 33,
     "metadata": {},
     "output_type": "execute_result"
    }
   ],
   "source": [
    "#1. Choose Shots to be 20 now\n",
    "\n",
    "eng = sf.Engine('gaussian')\n",
    "gbs = sf.Program(4)\n",
    "\n",
    "with gbs.context as q:\n",
    "    # prepare the input squeezed states\n",
    "    S = Sgate(1)\n",
    "    All(S) | q\n",
    "\n",
    "    # interferometer\n",
    "    Interferometer(U) | q\n",
    "    MeasureFock() | q\n",
    "    \n",
    "results = eng.run(gbs, run_options={\"shots\":20})\n",
    "state = results.state\n",
    "\n",
    "#eng.print_applied()\n",
    "#results.samples\n",
    "B = (np.dot(U, U.T) * np.tanh(1))\n",
    "B[:,[0,1]][[0,1]]\n"
   ]
  },
  {
   "cell_type": "code",
   "execution_count": 34,
   "metadata": {},
   "outputs": [
    {
     "name": "stdout",
     "output_type": "stream",
     "text": [
      "Run 0:\n",
      "Sgate(1, 0) | (q[0])\n",
      "Sgate(1, 0) | (q[1])\n",
      "Sgate(1, 0) | (q[2])\n",
      "Sgate(1, 0) | (q[3])\n",
      "Rgate(-1.106) | (q[0])\n",
      "BSgate(0.6758, 0) | (q[0], q[1])\n",
      "Rgate(-2.335) | (q[2])\n",
      "BSgate(0.6619, 0) | (q[2], q[3])\n",
      "Rgate(0.3969) | (q[1])\n",
      "BSgate(1.203, 0) | (q[1], q[2])\n",
      "Rgate(-0.2382) | (q[0])\n",
      "BSgate(1.331, 0) | (q[0], q[1])\n",
      "Rgate(-1.28) | (q[0])\n",
      "Rgate(2.912) | (q[1])\n",
      "Rgate(0.01374) | (q[2])\n",
      "Rgate(1.388) | (q[3])\n",
      "BSgate(-0.7982, 0) | (q[2], q[3])\n",
      "Rgate(-1.893) | (q[2])\n",
      "BSgate(-0.3828, 0) | (q[1], q[2])\n",
      "Rgate(-2.615) | (q[1])\n",
      "Measure | (q[0], q[1], q[2], q[3])\n",
      "None \n",
      " \n",
      " \n",
      " [[1 0 4 3]\n",
      " [0 0 0 0]\n",
      " [0 0 0 0]\n",
      " [3 4 3 0]\n",
      " [2 0 0 0]\n",
      " [0 0 0 0]\n",
      " [0 0 0 0]\n",
      " [0 0 0 0]\n",
      " [1 3 0 0]\n",
      " [1 0 1 0]\n",
      " [0 0 0 0]\n",
      " [2 0 0 0]\n",
      " [0 0 1 1]\n",
      " [0 0 0 0]\n",
      " [0 1 0 1]\n",
      " [0 0 0 0]\n",
      " [3 1 2 0]\n",
      " [3 0 1 0]\n",
      " [4 4 0 2]\n",
      " [2 3 1 2]]\n"
     ]
    }
   ],
   "source": [
    "print(eng.print_applied(),'\\n','\\n','\\n',results.samples)"
   ]
  },
  {
   "cell_type": "code",
   "execution_count": 35,
   "metadata": {},
   "outputs": [
    {
     "name": "stdout",
     "output_type": "stream",
     "text": [
      "0.0316094153879846 \n",
      " 0.027509995211198953 \n",
      " 0.00917953873683522 \n",
      " 0.011469919168501192 \n",
      " 0.17637844761413482\n"
     ]
    }
   ],
   "source": [
    "print(state.fock_prob([0, 1, 0, 1]),'\\n',state.fock_prob([2, 0, 0, 0]),'\\n',\n",
    "    state.fock_prob([1, 1, 0, 0]),'\\n',state.fock_prob([1, 1, 1, 1]),'\\n',\n",
    "    state.fock_prob([0, 0, 0, 0]))"
   ]
  },
  {
   "cell_type": "code",
   "execution_count": 51,
   "metadata": {},
   "outputs": [],
   "source": [
    "# Increasing shots did not effect the probabilities, the results were the same."
   ]
  },
  {
   "cell_type": "code",
   "execution_count": null,
   "metadata": {},
   "outputs": [],
   "source": []
  },
  {
   "cell_type": "code",
   "execution_count": null,
   "metadata": {},
   "outputs": [],
   "source": [
    "#2. Use a fock backend instead oF Gaussian"
   ]
  },
  {
   "cell_type": "code",
   "execution_count": 49,
   "metadata": {},
   "outputs": [
    {
     "data": {
      "text/plain": [
       "array([[-0.04820543-0.55643423j, -0.10053267-0.20478706j],\n",
       "       [-0.10053267-0.20478706j,  0.26978353-0.41793844j]])"
      ]
     },
     "execution_count": 49,
     "metadata": {},
     "output_type": "execute_result"
    }
   ],
   "source": [
    "eng = sf.Engine('fock', backend_options={\"cutoff_dim\":10})\n",
    "gbs = sf.Program(4)\n",
    "\n",
    "with gbs.context as q:\n",
    "    # prepare the input squeezed states\n",
    "    S = Sgate(1)\n",
    "    All(S) | q\n",
    "\n",
    "    # interferometer\n",
    "    Interferometer(U) | q\n",
    "    MeasureFock() | q\n",
    "    \n",
    "results = eng.run(gbs)\n",
    "state = results.state\n",
    "\n",
    "#eng.print_applied()\n",
    "#results.samples\n",
    "\n",
    "B = (np.dot(U, U.T) * np.tanh(1))\n",
    "B[:,[0,1]][[0,1]]\n",
    "\n",
    "\n"
   ]
  },
  {
   "cell_type": "code",
   "execution_count": 50,
   "metadata": {},
   "outputs": [
    {
     "name": "stdout",
     "output_type": "stream",
     "text": [
      "Run 0:\n",
      "Sgate(1, 0) | (q[0])\n",
      "Sgate(1, 0) | (q[1])\n",
      "Sgate(1, 0) | (q[2])\n",
      "Sgate(1, 0) | (q[3])\n",
      "Rgate(-1.106) | (q[0])\n",
      "BSgate(0.6758, 0) | (q[0], q[1])\n",
      "Rgate(-2.335) | (q[2])\n",
      "BSgate(0.6619, 0) | (q[2], q[3])\n",
      "Rgate(0.3969) | (q[1])\n",
      "BSgate(1.203, 0) | (q[1], q[2])\n",
      "Rgate(-0.2382) | (q[0])\n",
      "BSgate(1.331, 0) | (q[0], q[1])\n",
      "Rgate(-1.28) | (q[0])\n",
      "Rgate(2.912) | (q[1])\n",
      "Rgate(0.01374) | (q[2])\n",
      "Rgate(1.388) | (q[3])\n",
      "BSgate(-0.7982, 0) | (q[2], q[3])\n",
      "Rgate(-1.893) | (q[2])\n",
      "BSgate(-0.3828, 0) | (q[1], q[2])\n",
      "Rgate(-2.615) | (q[1])\n",
      "Measure | (q[0], q[1], q[2], q[3])\n",
      "None \n",
      " \n",
      " \n",
      " [0, 0, 0, 0]\n"
     ]
    }
   ],
   "source": [
    "print(eng.print_applied(),'\\n','\\n','\\n',results.samples)"
   ]
  },
  {
   "cell_type": "code",
   "execution_count": 51,
   "metadata": {},
   "outputs": [
    {
     "name": "stdout",
     "output_type": "stream",
     "text": [
      "0.0 \n",
      " 0.0 \n",
      " 0.0 \n",
      " 0.0 \n",
      " 1.0\n"
     ]
    }
   ],
   "source": [
    "print(state.fock_prob([0, 1, 0, 1]),'\\n',state.fock_prob([2, 0, 0, 0]),'\\n',\n",
    "    state.fock_prob([1, 1, 0, 0]),'\\n',state.fock_prob([1, 1, 1, 1]),'\\n',\n",
    "    state.fock_prob([0, 0, 0, 0]))"
   ]
  },
  {
   "cell_type": "code",
   "execution_count": null,
   "metadata": {},
   "outputs": [],
   "source": []
  },
  {
   "cell_type": "code",
   "execution_count": 52,
   "metadata": {},
   "outputs": [],
   "source": [
    "#3. Use different beam splitters and rotation parameters"
   ]
  },
  {
   "cell_type": "code",
   "execution_count": 67,
   "metadata": {},
   "outputs": [
    {
     "data": {
      "text/plain": [
       "array([[ 0.51479529-0.22933374j, -0.27529063-0.09731268j],\n",
       "       [-0.27529063-0.09731268j, -0.03895239-0.66858026j]])"
      ]
     },
     "execution_count": 67,
     "metadata": {},
     "output_type": "execute_result"
    }
   ],
   "source": [
    "U2 = random_interferometer(4)\n",
    "\n",
    "eng = sf.Engine('gaussian')\n",
    "gbs = sf.Program(4)\n",
    "\n",
    "with gbs.context as q:\n",
    "    # prepare the input squeezed states\n",
    "    S = Sgate(1)\n",
    "    All(S) | q\n",
    "\n",
    "    # interferometer\n",
    "    Interferometer(U2) | q\n",
    "    MeasureFock() | q\n",
    "    \n",
    "results = eng.run(gbs, run_options={\"shots\":10})\n",
    "state = results.state\n",
    "\n",
    "\n",
    "#eng.print_applied()\n",
    "#results.samples\n",
    "\n",
    "B = (np.dot(U2, U2.T) * np.tanh(1))\n",
    "B[:,[0,1]][[0,1]]\n",
    "\n"
   ]
  },
  {
   "cell_type": "code",
   "execution_count": 68,
   "metadata": {},
   "outputs": [
    {
     "name": "stdout",
     "output_type": "stream",
     "text": [
      "Run 0:\n",
      "Sgate(1, 0) | (q[0])\n",
      "Sgate(1, 0) | (q[1])\n",
      "Sgate(1, 0) | (q[2])\n",
      "Sgate(1, 0) | (q[3])\n",
      "Rgate(-2.83) | (q[0])\n",
      "BSgate(0.3916, 0) | (q[0], q[1])\n",
      "Rgate(-0.3827) | (q[2])\n",
      "BSgate(0.5602, 0) | (q[2], q[3])\n",
      "Rgate(2.168) | (q[1])\n",
      "BSgate(0.88, 0) | (q[1], q[2])\n",
      "Rgate(-0.2634) | (q[0])\n",
      "BSgate(1.176, 0) | (q[0], q[1])\n",
      "Rgate(0.1752) | (q[0])\n",
      "Rgate(1.328) | (q[1])\n",
      "Rgate(3.096) | (q[2])\n",
      "Rgate(0.5547) | (q[3])\n",
      "BSgate(-1.051, 0) | (q[2], q[3])\n",
      "Rgate(0.392) | (q[2])\n",
      "BSgate(-0.1488, 0) | (q[1], q[2])\n",
      "Rgate(1.095) | (q[1])\n",
      "Measure | (q[0], q[1], q[2], q[3])\n",
      "None \n",
      " \n",
      " \n",
      " [[1 1 1 1]\n",
      " [0 0 0 0]\n",
      " [4 3 1 0]\n",
      " [0 0 4 2]\n",
      " [0 2 1 3]\n",
      " [0 0 0 0]\n",
      " [1 3 0 0]\n",
      " [0 1 1 2]\n",
      " [1 0 1 0]\n",
      " [4 0 2 4]]\n"
     ]
    }
   ],
   "source": [
    "print(eng.print_applied(),'\\n','\\n','\\n',results.samples)"
   ]
  },
  {
   "cell_type": "code",
   "execution_count": 69,
   "metadata": {},
   "outputs": [
    {
     "name": "stdout",
     "output_type": "stream",
     "text": [
      "0.005028323175934745 \n",
      " 0.028009616619309816 \n",
      " 0.015037089804576633 \n",
      " 0.0063006902096574766 \n",
      " 0.1763784476141346\n"
     ]
    }
   ],
   "source": [
    "print(state.fock_prob([0, 1, 0, 1]),'\\n',state.fock_prob([2, 0, 0, 0]),'\\n',\n",
    "    state.fock_prob([1, 1, 0, 0]),'\\n',state.fock_prob([1, 1, 1, 1]),'\\n',\n",
    "    state.fock_prob([0, 0, 0, 0]))"
   ]
  },
  {
   "cell_type": "code",
   "execution_count": 74,
   "metadata": {},
   "outputs": [
    {
     "data": {
      "text/plain": [
       "0.005028323175934762"
      ]
     },
     "execution_count": 74,
     "metadata": {},
     "output_type": "execute_result"
    }
   ],
   "source": [
    "B = (np.dot(U2, U2.T) * np.tanh(1))[:, [1, 3]][[1, 3]]\n",
    "np.abs(Haf(B)) ** 2 / np.cosh(1) ** 4"
   ]
  },
  {
   "cell_type": "code",
   "execution_count": 75,
   "metadata": {},
   "outputs": [
    {
     "data": {
      "text/plain": [
       "0.02800961661930988"
      ]
     },
     "execution_count": 75,
     "metadata": {},
     "output_type": "execute_result"
    }
   ],
   "source": [
    "B = (np.dot(U2, U2.T) * np.tanh(1))[:, [0, 0]][[0, 0]]\n",
    "np.abs(Haf(B)) ** 2 / (2 * np.cosh(1) ** 4)"
   ]
  },
  {
   "cell_type": "code",
   "execution_count": 76,
   "metadata": {},
   "outputs": [
    {
     "data": {
      "text/plain": [
       "0.015037089804576678"
      ]
     },
     "execution_count": 76,
     "metadata": {},
     "output_type": "execute_result"
    }
   ],
   "source": [
    "B = (np.dot(U2, U2.T) * np.tanh(1))[:, [0, 1]][[0, 1]]\n",
    "np.abs(Haf(B)) ** 2 / np.cosh(1) ** 4"
   ]
  },
  {
   "cell_type": "code",
   "execution_count": 77,
   "metadata": {},
   "outputs": [
    {
     "data": {
      "text/plain": [
       "0.006300690209657493"
      ]
     },
     "execution_count": 77,
     "metadata": {},
     "output_type": "execute_result"
    }
   ],
   "source": [
    "B = (np.dot(U2,U2.T) * np.tanh(1))\n",
    "np.abs(Haf(B)) ** 2 / np.cosh(1) ** 4"
   ]
  },
  {
   "cell_type": "code",
   "execution_count": 78,
   "metadata": {},
   "outputs": [
    {
     "data": {
      "text/plain": [
       "0.1763784476141347"
      ]
     },
     "execution_count": 78,
     "metadata": {},
     "output_type": "execute_result"
    }
   ],
   "source": [
    "1 / np.cosh(1) ** 4"
   ]
  },
  {
   "cell_type": "code",
   "execution_count": 62,
   "metadata": {},
   "outputs": [],
   "source": [
    "# This changed the probabilities from the original case, as expected"
   ]
  },
  {
   "cell_type": "code",
   "execution_count": null,
   "metadata": {},
   "outputs": [],
   "source": []
  },
  {
   "cell_type": "code",
   "execution_count": 63,
   "metadata": {},
   "outputs": [],
   "source": [
    "#4. Use differeng squeezed values"
   ]
  },
  {
   "cell_type": "code",
   "execution_count": 123,
   "metadata": {},
   "outputs": [
    {
     "name": "stdout",
     "output_type": "stream",
     "text": [
      "Squeesed values are now 1,2,3,4 for q[0]-q[3]\n"
     ]
    },
    {
     "data": {
      "text/plain": [
       "array([[-0.04820543-0.55643423j, -0.10053267-0.20478706j],\n",
       "       [-0.10053267-0.20478706j,  0.26978353-0.41793844j]])"
      ]
     },
     "execution_count": 123,
     "metadata": {},
     "output_type": "execute_result"
    }
   ],
   "source": [
    "\n",
    "eng = sf.Engine('gaussian')\n",
    "gbs = sf.Program(4)\n",
    "\n",
    "with gbs.context as q:\n",
    "    # prepare the input squeezed states\n",
    "    Sgate(1) | q[0]\n",
    "    Sgate(2) | q[1]\n",
    "    Sgate(3) | q[2]\n",
    "    Sgate(4) | q[3]\n",
    "\n",
    "    # interferometer\n",
    "    Interferometer(U) | q\n",
    "    MeasureFock() | q\n",
    "    \n",
    "results = eng.run(gbs, run_options={\"shots\":10})\n",
    "state = results.state\n",
    "\n",
    "print( \"Squeesed values are now 1,2,3,4 for q[0]-q[3]\")\n",
    "\n",
    "#eng.print_applied()\n",
    "#results.samples\n",
    "B = (np.dot(U, U.T) * np.tanh(1))\n",
    "B[:,[0,1]][[0,1]]\n"
   ]
  },
  {
   "cell_type": "code",
   "execution_count": 124,
   "metadata": {},
   "outputs": [
    {
     "name": "stdout",
     "output_type": "stream",
     "text": [
      "1596.0710718165524\n"
     ]
    }
   ],
   "source": [
    "# Find the determinant dependent prefactor\n",
    "\n",
    "import scipy as sp\n",
    "\n",
    "UT = np.matrix.transpose(U)\n",
    "Ustar = np.ndarray.conjugate(U)\n",
    "Uherm = np.ndarray.conjugate(UT)\n",
    "\n",
    "\n",
    "def S(r):\n",
    "    a = np.cosh(r)\n",
    "    b = -np.sinh(r)\n",
    "    mat = np.array([[a, b],[b, a]])\n",
    "    return mat\n",
    "\n",
    "def Sherm(x):\n",
    "    s = S(x)\n",
    "    sT = np.matrix.transpose(s)\n",
    "    sHerm = np.ndarray.conjugate(sT)\n",
    "    return sHerm\n",
    "\n",
    "    \n",
    "c11 = np.dot(S(1),Sherm(1))\n",
    "c22 = np.dot(S(2),Sherm(2))\n",
    "c33 = np.dot(S(3),Sherm(3))\n",
    "c44 = np.dot(S(4),Sherm(4))\n",
    "\n",
    "cov_in = sp.linalg.block_diag(c11,c22,c33,c44)\n",
    "\n",
    "cov_out_partial = .5 * np.dot(sp.linalg.block_diag(U,Ustar),cov_in)\n",
    "\n",
    "cov_out = np.dot(cov_out_partial, sp.linalg.block_diag(Uherm,UT))\n",
    "\n",
    "cov_det = sp.linalg.det(np.add(cov_out, .5*np.identity(8)))\n",
    "\n",
    "det = (np.abs(cov_det))**.5\n",
    "print(det)"
   ]
  },
  {
   "cell_type": "code",
   "execution_count": 129,
   "metadata": {},
   "outputs": [
    {
     "name": "stdout",
     "output_type": "stream",
     "text": [
      "0.000163290256289544 \n",
      " 0.00016354240979142684 \n",
      " 6.097186549168708e-05 \n",
      " 0.00010524152862524394 \n",
      " 0.0006265385155197168 \n",
      "\n",
      "\n",
      "\n",
      "0.0004261529176992959\n",
      "0.0023738290933813396\n",
      "0.001274400922477586\n",
      "0.012740029582915341\n",
      "0.0006265385155197757\n"
     ]
    }
   ],
   "source": [
    "# Now simply replace the cosh^2N(r) and tanh(r) with det and tanh(ri)\n",
    "\n",
    "print(state.fock_prob([0, 1, 0, 1]),'\\n',state.fock_prob([2, 0, 0, 0]),'\\n',\n",
    "    state.fock_prob([1, 1, 0, 0]),'\\n',state.fock_prob([1, 1, 1, 1]),'\\n',\n",
    "    state.fock_prob([0, 0, 0, 0]), '\\n\\n\\n')\n",
    "\n",
    "\n",
    "t = np.tanh(1)*U2.T + np.tanh(2)*U2.T + np.tanh(3)*U2.T + np.tanh(4)*U2.T\n",
    "\n",
    "\n",
    "B = (np.dot(U2, t))[:, [1, 3]][[1, 3]]\n",
    "print(np.abs(Haf(B)) ** 2 / det)\n",
    "\n",
    "B = (np.dot(U2, t))[:, [0, 0]][[0, 0]]\n",
    "print(np.abs(Haf(B)) ** 2 / (2 * det))\n",
    "\n",
    "B = (np.dot(U2, t))[:, [0, 1]][[0, 1]]\n",
    "print(np.abs(Haf(B)) ** 2 / det)\n",
    "\n",
    "B = (np.dot(U2,t))\n",
    "print(np.abs(Haf(B)) ** 2 / det)\n",
    "\n",
    "print(1 / det)"
   ]
  },
  {
   "cell_type": "code",
   "execution_count": 137,
   "metadata": {},
   "outputs": [
    {
     "name": "stdout",
     "output_type": "stream",
     "text": [
      "0.0004261529176992959\n",
      "0.0023738290933813396\n",
      "[4.57165300e-05 1.21700906e-04 2.33486675e-05 4.56542637e-05]\n",
      "[2.73400577e-05 2.60033626e-05 5.05453551e-06 3.84465306e-05]\n",
      "0.0006265385155197757\n"
     ]
    }
   ],
   "source": [
    "t = [np.tanh(1)*U2.T,np.tanh(2)*U2.T, np.tanh(3)*U2.T,np.tanh(4)*U2.T]\n",
    "\n",
    "C = 0\n",
    "for T in t:\n",
    "    C = C + np.dot(U2,T) \n",
    "\n",
    "B = (C)[:, [1, 3]][[1, 3]]\n",
    "print(np.abs(Haf(B)) ** 2 / det)\n",
    "\n",
    "B = (C)[:, [0, 0]][[0, 0]]\n",
    "print(np.abs(Haf(B)) ** 2 / (2 * det))\n",
    "\n",
    "B = (np.dot(U2, t))[:, [0, 1]][[0, 1]]\n",
    "print(np.abs(Haf(B)) ** 2 / det)\n",
    "\n",
    "B = (np.dot(U2,t))\n",
    "print(np.abs(Haf(B)) ** 2 / det)\n",
    "\n",
    "print(1 / det)"
   ]
  },
  {
   "cell_type": "code",
   "execution_count": null,
   "metadata": {},
   "outputs": [],
   "source": []
  }
 ],
 "metadata": {
  "kernelspec": {
   "display_name": "Python 3",
   "language": "python",
   "name": "python3"
  },
  "language_info": {
   "codemirror_mode": {
    "name": "ipython",
    "version": 3
   },
   "file_extension": ".py",
   "mimetype": "text/x-python",
   "name": "python",
   "nbconvert_exporter": "python",
   "pygments_lexer": "ipython3",
   "version": "3.6.9"
  },
  "toc": {
   "nav_menu": {},
   "number_sections": true,
   "sideBar": true,
   "skip_h1_title": false,
   "toc_cell": false,
   "toc_position": {},
   "toc_section_display": "block",
   "toc_window_display": false
  }
 },
 "nbformat": 4,
 "nbformat_minor": 2
}
